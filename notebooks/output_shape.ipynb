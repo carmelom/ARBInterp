{
 "cells": [
  {
   "cell_type": "code",
   "execution_count": 35,
   "id": "64bac0e2",
   "metadata": {},
   "outputs": [],
   "source": [
    "import numpy as np\n",
    "from qinterp import TricubicScalarInterpolator\n",
    "from scipy.interpolate import RegularGridInterpolator\n",
    "from pathlib import Path"
   ]
  },
  {
   "cell_type": "code",
   "execution_count": 16,
   "id": "92746751",
   "metadata": {},
   "outputs": [],
   "source": [
    "tests_dir = Path(\"..\") / \"tests\"\n",
    "data_path = tests_dir / \"fields\" / \"Example3DScalarField.csv\"\n",
    "interp_data_path = tests_dir / \"fields\" / \"Example3DScalarFieldResults.npz\""
   ]
  },
  {
   "cell_type": "code",
   "execution_count": 20,
   "id": "94927692",
   "metadata": {},
   "outputs": [],
   "source": [
    "data = np.genfromtxt(data_path, delimiter=',')\n",
    "tri = TricubicScalarInterpolator(data)\n",
    "\n",
    "A = np.load(interp_data_path)\n",
    "coords = A['coords']\n",
    "xi = coords[3]\n",
    "\n",
    "field = tri.field(xi)\n",
    "grad = tri.gradient(xi)\n",
    "\n",
    "assert np.allclose(field, A['single_field'])\n",
    "assert np.allclose(grad, A['single_grad'])\n",
    "\n",
    "fields = tri.field(coords)\n",
    "grads = tri.gradient(coords)\n",
    "\n",
    "assert np.allclose(fields, A['multi_field'])\n",
    "assert np.allclose(grads, A['multi_grad'])\n",
    "assert np.allclose(tri(coords[3], d=2), tri.hessian(coords)[3])\n"
   ]
  },
  {
   "cell_type": "code",
   "execution_count": 23,
   "id": "5985d08e",
   "metadata": {},
   "outputs": [
    {
     "data": {
      "text/plain": [
       "((20, 3), (20, 1))"
      ]
     },
     "execution_count": 23,
     "metadata": {},
     "output_type": "execute_result"
    }
   ],
   "source": [
    "coords.shape, tri.field(coords).shape"
   ]
  },
  {
   "cell_type": "code",
   "execution_count": 31,
   "id": "568cfd37",
   "metadata": {},
   "outputs": [
    {
     "data": {
      "text/plain": [
       "[(20, 3), (20, 1), (20, 3), (20, 3, 3)]"
      ]
     },
     "execution_count": 31,
     "metadata": {},
     "output_type": "execute_result"
    }
   ],
   "source": [
    "def shapes(x):\n",
    "    return [x.shape] + [tri(x, d=d).shape for d in range(3)]\n",
    "\n",
    "shapes(coords)"
   ]
  },
  {
   "cell_type": "code",
   "execution_count": 32,
   "id": "3e805f32",
   "metadata": {},
   "outputs": [
    {
     "data": {
      "text/plain": [
       "[(3,), (), (3,), (3, 3)]"
      ]
     },
     "execution_count": 32,
     "metadata": {},
     "output_type": "execute_result"
    }
   ],
   "source": [
    "shapes(coords[3])"
   ]
  },
  {
   "cell_type": "code",
   "execution_count": 33,
   "id": "a68a9120",
   "metadata": {},
   "outputs": [
    {
     "data": {
      "text/plain": [
       "[(1, 3), (1, 1), (1, 3), (1, 3, 3)]"
      ]
     },
     "execution_count": 33,
     "metadata": {},
     "output_type": "execute_result"
    }
   ],
   "source": [
    "shapes(coords[3].reshape(1, -1))"
   ]
  },
  {
   "cell_type": "code",
   "execution_count": 36,
   "id": "a859bb8a",
   "metadata": {},
   "outputs": [],
   "source": [
    "points = tri.x, tri.y, tri.z\n",
    "values = tri.field_data\n",
    "\n",
    "grid_interp = RegularGridInterpolator(points, values, method=\"cubic\")\n"
   ]
  },
  {
   "cell_type": "code",
   "execution_count": 37,
   "id": "050f59d6",
   "metadata": {},
   "outputs": [
    {
     "data": {
      "text/plain": [
       "[(20, 3), (20,)]"
      ]
     },
     "execution_count": 37,
     "metadata": {},
     "output_type": "execute_result"
    }
   ],
   "source": [
    "[coords.shape, grid_interp(coords).shape]"
   ]
  },
  {
   "cell_type": "code",
   "execution_count": 39,
   "id": "e7144d7a",
   "metadata": {},
   "outputs": [
    {
     "data": {
      "text/plain": [
       "[(3,), (1,)]"
      ]
     },
     "execution_count": 39,
     "metadata": {},
     "output_type": "execute_result"
    }
   ],
   "source": [
    "xi = coords[3]\n",
    "[xi.shape, grid_interp(xi).shape]"
   ]
  },
  {
   "cell_type": "code",
   "execution_count": 40,
   "id": "ab269685",
   "metadata": {},
   "outputs": [
    {
     "data": {
      "text/plain": [
       "[(1, 3), (1,)]"
      ]
     },
     "execution_count": 40,
     "metadata": {},
     "output_type": "execute_result"
    }
   ],
   "source": [
    "xi = coords[3].reshape(1, -1)\n",
    "[xi.shape, grid_interp(xi).shape]"
   ]
  },
  {
   "cell_type": "code",
   "execution_count": 47,
   "id": "01b0edd7",
   "metadata": {},
   "outputs": [
    {
     "name": "stdout",
     "output_type": "stream",
     "text": [
      "79.2 µs ± 4.16 µs per loop (mean ± std. dev. of 7 runs, 10,000 loops each)\n"
     ]
    }
   ],
   "source": [
    "%%timeit\n",
    "tri(coords[3], d=0)"
   ]
  },
  {
   "cell_type": "code",
   "execution_count": 48,
   "id": "7133cbd0",
   "metadata": {},
   "outputs": [
    {
     "name": "stdout",
     "output_type": "stream",
     "text": [
      "270 µs ± 6.58 µs per loop (mean ± std. dev. of 7 runs, 1,000 loops each)\n"
     ]
    }
   ],
   "source": [
    "%%timeit\n",
    "tri(coords[3].reshape(1, -1), d=0)"
   ]
  },
  {
   "cell_type": "code",
   "execution_count": 50,
   "id": "9bd3a608",
   "metadata": {},
   "outputs": [
    {
     "name": "stdout",
     "output_type": "stream",
     "text": [
      "315 µs ± 12.4 µs per loop (mean ± std. dev. of 7 runs, 1,000 loops each)\n"
     ]
    }
   ],
   "source": [
    "%%timeit\n",
    "tri(coords)"
   ]
  },
  {
   "cell_type": "code",
   "execution_count": 49,
   "id": "3e728b19",
   "metadata": {},
   "outputs": [
    {
     "name": "stdout",
     "output_type": "stream",
     "text": [
      "19.5 ms ± 2.12 ms per loop (mean ± std. dev. of 7 runs, 10 loops each)\n"
     ]
    }
   ],
   "source": [
    "%%timeit\n",
    "grid_interp(coords)"
   ]
  }
 ],
 "metadata": {
  "kernelspec": {
   "display_name": "Python 3",
   "language": "python",
   "name": "python3"
  },
  "language_info": {
   "codemirror_mode": {
    "name": "ipython",
    "version": 3
   },
   "file_extension": ".py",
   "mimetype": "text/x-python",
   "name": "python",
   "nbconvert_exporter": "python",
   "pygments_lexer": "ipython3",
   "version": "3.9.0"
  }
 },
 "nbformat": 4,
 "nbformat_minor": 5
}
